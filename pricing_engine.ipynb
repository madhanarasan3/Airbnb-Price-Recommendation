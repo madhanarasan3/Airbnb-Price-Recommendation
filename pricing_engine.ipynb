{
  "nbformat": 4,
  "nbformat_minor": 0,
  "metadata": {
    "colab": {
      "provenance": []
    },
    "kernelspec": {
      "name": "python3",
      "display_name": "Python 3"
    },
    "language_info": {
      "name": "python"
    }
  },
  "cells": [
    {
      "cell_type": "code",
      "execution_count": null,
      "metadata": {
        "id": "hKgLAhq7XRjL"
      },
      "outputs": [],
      "source": [
        "import pandas as pd\n",
        "from sklearn.linear_model import LinearRegression\n",
        "from sklearn.model_selection import train_test_split\n",
        "\n",
        "# Load your Airbnb dataset\n",
        "df = pd.read_csv('cleaned_airbnb_data.csv')\n",
        "\n",
        "# One-hot encode categorical variables\n",
        "df_encoded = pd.get_dummies(df, columns=['room_type', 'neighbourhood_group', 'season'], drop_first=True)\n",
        "\n",
        "# Define features and target\n",
        "features = df_encoded[['reviews_per_month'] + [col for col in df_encoded.columns if 'room_type' in col or 'neighbourhood_group' in col or 'season' in col]]\n",
        "target = df_encoded['price']\n",
        "\n",
        "# Split data\n",
        "X_train, X_test, y_train, y_test = train_test_split(features, target, test_size=0.2)\n",
        "\n",
        "# Train model\n",
        "model = LinearRegression()\n",
        "model.fit(X_train, y_train)\n",
        "\n",
        "# Predict price\n",
        "df['predicted_price'] = model.predict(features)\n",
        "\n",
        "# Save to new CSV\n",
        "df.to_csv('airbnb_with_predictions.csv', index=False)\n"
      ]
    }
  ]
}